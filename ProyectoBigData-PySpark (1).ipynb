{
 "cells": [
  {
   "cell_type": "code",
   "execution_count": 19,
   "id": "9b32d063",
   "metadata": {},
   "outputs": [],
   "source": [
    "import findspark\n",
    "findspark.init() #para inicializar\n",
    "from pyspark.sql import SparkSession\n",
    "from pyspark.sql.functions import *\n",
    "\n",
    "\n",
    "spark = SparkSession.builder\\\n",
    "        .master(\"local[*]\")\\\n",
    "        .appName('PySpark_training')\\\n",
    "        .getOrCreate() #devuelve una sesion existente sino existe la crea\n",
    "\n",
    "spark = SparkSession.builder.getOrCreate() #genera lo mismo que antes solo que con los valores por default\n",
    "sc = spark.sparkContext"
   ]
  },
  {
   "cell_type": "code",
   "execution_count": 7,
   "id": "fba402d5",
   "metadata": {},
   "outputs": [],
   "source": [
    "# 1. Crear un DataFrame con datos de personas, que incluya nombre, edad y ciudad de residencia.\n",
    "person = [\n",
    "    \n",
    "        (\"Alice\", 25, \"New York\"),\n",
    "        (\"Bob\", 30, \"Los Angeles\"),\n",
    "        (\"Charlie\", 22, \"Chicago\")\n",
    "      \n",
    "]\n",
    "\n",
    "df = spark.createDataFrame(person, [\"name\", \"age\", \"city\"])"
   ]
  },
  {
   "cell_type": "code",
   "execution_count": 9,
   "id": "f78db341",
   "metadata": {},
   "outputs": [
    {
     "name": "stdout",
     "output_type": "stream",
     "text": [
      "+-------+\n",
      "|   name|\n",
      "+-------+\n",
      "|  Alice|\n",
      "|    Bob|\n",
      "|Charlie|\n",
      "+-------+\n",
      "\n"
     ]
    }
   ],
   "source": [
    "# 2. Mostrar solo los nombres de las personas del DataFrame.\n",
    "selected_column = df.select(\"name\")\n",
    "selected_column.show()"
   ]
  },
  {
   "cell_type": "code",
   "execution_count": 11,
   "id": "cbf5c037",
   "metadata": {},
   "outputs": [
    {
     "name": "stdout",
     "output_type": "stream",
     "text": [
      "+-----+---+-----------+\n",
      "| name|age|       city|\n",
      "+-----+---+-----------+\n",
      "|Alice| 25|   New York|\n",
      "|  Bob| 30|Los Angeles|\n",
      "+-----+---+-----------+\n",
      "\n"
     ]
    }
   ],
   "source": [
    "# 3. Filtrar personas cuya edad sea mayor o igual a 25.\n",
    "filtered_column = df.filter(df[\"age\"]>=25)\n",
    "filtered_column.show()"
   ]
  },
  {
   "cell_type": "code",
   "execution_count": 20,
   "id": "f057ca0f",
   "metadata": {},
   "outputs": [
    {
     "name": "stdout",
     "output_type": "stream",
     "text": [
      "+-------+---+-----------+-------+\n",
      "|   name|age|       city|country|\n",
      "+-------+---+-----------+-------+\n",
      "|  Alice| 25|   New York|    USA|\n",
      "|    Bob| 30|Los Angeles|    USA|\n",
      "|Charlie| 22|    Chicago|    USA|\n",
      "+-------+---+-----------+-------+\n",
      "\n"
     ]
    }
   ],
   "source": [
    "# 4. Agregar una nueva columna \"Pais\" con un valor constante para todas las filas.\n",
    "country = \"USA\"\n",
    "df_with_new_column = df.withColumn(\"country\", lit(country) )\n",
    "df_with_new_column.show()"
   ]
  },
  {
   "cell_type": "code",
   "execution_count": 22,
   "id": "158cbfdc",
   "metadata": {},
   "outputs": [
    {
     "name": "stdout",
     "output_type": "stream",
     "text": [
      "Average Age: 25.666666666666668\n"
     ]
    }
   ],
   "source": [
    "# 5. Calcular el promedio de edad de todas las personas.\n",
    "average_age = df.select(avg(col(\"age\"))).collect()[0][0]\n",
    "print(\"Average Age:\", average_age)\n"
   ]
  },
  {
   "cell_type": "code",
   "execution_count": 23,
   "id": "bea53745",
   "metadata": {},
   "outputs": [
    {
     "name": "stdout",
     "output_type": "stream",
     "text": [
      "+-------+---+-----------+\n",
      "|   name|age|       city|\n",
      "+-------+---+-----------+\n",
      "|    Bob| 30|Los Angeles|\n",
      "|  Alice| 25|   New York|\n",
      "|Charlie| 22|    Chicago|\n",
      "+-------+---+-----------+\n",
      "\n"
     ]
    }
   ],
   "source": [
    "# 6. Ordenar el DataFrame por edad en orden descendente.\n",
    "df_ordered = df.orderBy(col(\"age\").desc())\n",
    "df_ordered.show()"
   ]
  },
  {
   "cell_type": "code",
   "execution_count": 24,
   "id": "62c85811",
   "metadata": {},
   "outputs": [
    {
     "name": "stdout",
     "output_type": "stream",
     "text": [
      "+-----------+-------------+\n",
      "|       city|total_persons|\n",
      "+-----------+-------------+\n",
      "|   New York|            1|\n",
      "|Los Angeles|            1|\n",
      "|    Chicago|            1|\n",
      "+-----------+-------------+\n",
      "\n"
     ]
    }
   ],
   "source": [
    "# 7. Agrupar por ciudad y calcular la cantidad de personas en cada ciudad.\n",
    "result_group_personbycity = df.groupBy(\"city\").agg(count(\"name\").alias(\"total_persons\"))\n",
    "result_group_personbycity.show()"
   ]
  },
  {
   "cell_type": "code",
   "execution_count": 27,
   "id": "2df2bb3f",
   "metadata": {},
   "outputs": [
    {
     "name": "stdout",
     "output_type": "stream",
     "text": [
      "+------------+---+-----------+\n",
      "|CompleteName|age|       city|\n",
      "+------------+---+-----------+\n",
      "|       Alice| 25|   New York|\n",
      "|         Bob| 30|Los Angeles|\n",
      "|     Charlie| 22|    Chicago|\n",
      "+------------+---+-----------+\n",
      "\n"
     ]
    }
   ],
   "source": [
    "# 8. Renombrar la columna \"Nombre\" a \"NombreCompleto\".\n",
    "rename = df.withColumnRenamed(\"name\", \"CompleteName\")\n",
    "rename.show()"
   ]
  },
  {
   "cell_type": "code",
   "execution_count": 28,
   "id": "9d2f324b",
   "metadata": {},
   "outputs": [
    {
     "name": "stdout",
     "output_type": "stream",
     "text": [
      "+-------+-----------+\n",
      "|   name|       city|\n",
      "+-------+-----------+\n",
      "|  Alice|   New York|\n",
      "|    Bob|Los Angeles|\n",
      "|Charlie|    Chicago|\n",
      "+-------+-----------+\n",
      "\n"
     ]
    }
   ],
   "source": [
    "# 9. Eliminar la columna \"Edad\" del DataFrame.\n",
    "withnoage = df.drop(\"age\")\n",
    "withnoage.show()"
   ]
  },
  {
   "cell_type": "code",
   "execution_count": 29,
   "id": "44b0178e",
   "metadata": {},
   "outputs": [
    {
     "name": "stdout",
     "output_type": "stream",
     "text": [
      "+-------+---+-----------+\n",
      "|   name|age|       city|\n",
      "+-------+---+-----------+\n",
      "|  Alice| 25|   New York|\n",
      "|    Bob| 30|Los Angeles|\n",
      "|Charlie| 22|    Chicago|\n",
      "+-------+---+-----------+\n",
      "\n"
     ]
    }
   ],
   "source": [
    "# 10. Realizar una consulta SQL en el DataFrame para seleccionar personas mayores de 20 años.\n",
    "df.createOrReplaceTempView(\"my_table\")\n",
    "sql = \"SELECT * FROM my_table WHERE age > 20\"\n",
    "queryresult = spark.sql(sql)\n",
    "queryresult.show()"
   ]
  },
  {
   "cell_type": "code",
   "execution_count": 30,
   "id": "2f526cea",
   "metadata": {},
   "outputs": [
    {
     "name": "stdout",
     "output_type": "stream",
     "text": [
      "Total Sum: 77\n"
     ]
    }
   ],
   "source": [
    "# 11. Calcular la suma total de todas las edades.\n",
    "total_sum = df.select(sum(\"age\")).collect()[0][0]\n",
    "print(\"Total Sum:\", total_sum)"
   ]
  },
  {
   "cell_type": "code",
   "execution_count": 31,
   "id": "a1eefb86",
   "metadata": {},
   "outputs": [
    {
     "name": "stdout",
     "output_type": "stream",
     "text": [
      "Maximum Age: 30\n",
      "Minimum Age: 22\n"
     ]
    }
   ],
   "source": [
    "# 12. Calcular la edad mínima y máxima de todas las personas.\n",
    "max_age = df.select(max(\"age\")).collect()[0][0]\n",
    "min_age = df.select(min(\"age\")).collect()[0][0]\n",
    "print(\"Maximum Age:\", max_age)\n",
    "print(\"Minimum Age:\", min_age)"
   ]
  },
  {
   "cell_type": "code",
   "execution_count": 32,
   "id": "3d6b9546",
   "metadata": {},
   "outputs": [
    {
     "name": "stdout",
     "output_type": "stream",
     "text": [
      "+-------+---+-------+\n",
      "|   name|age|   city|\n",
      "+-------+---+-------+\n",
      "|Charlie| 22|Chicago|\n",
      "+-------+---+-------+\n",
      "\n"
     ]
    }
   ],
   "source": [
    "# 13. Filtrar personas cuya ciudad de residencia sea \"Chicago\" y edad sea menor de 30.\n",
    "df.createOrReplaceTempView(\"my_table\")\n",
    "sql = \"SELECT * FROM my_table WHERE city = 'Chicago' AND age < 30\"\n",
    "queryresult = spark.sql(sql)\n",
    "queryresult.show()"
   ]
  },
  {
   "cell_type": "code",
   "execution_count": 33,
   "id": "3abc2afd",
   "metadata": {},
   "outputs": [
    {
     "name": "stdout",
     "output_type": "stream",
     "text": [
      "+-------+---+-----------+-------------+\n",
      "|   name|age|       city|DuplicatedAge|\n",
      "+-------+---+-----------+-------------+\n",
      "|  Alice| 25|   New York|           50|\n",
      "|    Bob| 30|Los Angeles|           60|\n",
      "|Charlie| 22|    Chicago|           44|\n",
      "+-------+---+-----------+-------------+\n",
      "\n"
     ]
    }
   ],
   "source": [
    "# 14. Agregar una nueva columna \"EdadDuplicada\" que contenga el doble de la edad.\n",
    "duplicatedage = df.withColumn(\"DuplicatedAge\", col(\"age\") * 2)\n",
    "duplicatedage.show()"
   ]
  },
  {
   "cell_type": "code",
   "execution_count": 42,
   "id": "8c994cfe",
   "metadata": {},
   "outputs": [
    {
     "name": "stdout",
     "output_type": "stream",
     "text": [
      "+-------+---+-----------+\n",
      "|   name|age|       city|\n",
      "+-------+---+-----------+\n",
      "|  Alice|300|   New York|\n",
      "|    Bob|360|Los Angeles|\n",
      "|Charlie|264|    Chicago|\n",
      "+-------+---+-----------+\n",
      "\n"
     ]
    }
   ],
   "source": [
    "# 15. Convertir todas las edades en años a meses.\n",
    "agecolumn = \"age\"\n",
    "ageInMonths = df.withColumn(\"age\", expr(f\"{agecolumn} * 12\"))\n",
    "ageInMonths.show()"
   ]
  },
  {
   "cell_type": "code",
   "execution_count": 44,
   "id": "e23915b0",
   "metadata": {},
   "outputs": [
    {
     "name": "stdout",
     "output_type": "stream",
     "text": [
      "Total Number of Persons: 3\n"
     ]
    }
   ],
   "source": [
    "# 16. Contar el número total de personas en el DataFrame.\n",
    "person_count = df.select(\"name\").count()\n",
    "print(\"Total Number of Persons:\", person_count)"
   ]
  },
  {
   "cell_type": "code",
   "execution_count": 48,
   "id": "c746d9f2",
   "metadata": {},
   "outputs": [
    {
     "name": "stdout",
     "output_type": "stream",
     "text": [
      "+-------+---+-----------+\n",
      "|   name|age|       city|\n",
      "+-------+---+-----------+\n",
      "|    Bob| 30|Los Angeles|\n",
      "|Charlie| 22|    Chicago|\n",
      "+-------+---+-----------+\n",
      "\n"
     ]
    }
   ],
   "source": [
    "# 17. Filtrar personas cuya edad sea un número par.\n",
    "evenAges = df.filter(col(\"age\") % 2 == 0)\n",
    "evenAges.show()"
   ]
  },
  {
   "cell_type": "code",
   "execution_count": 49,
   "id": "14988371",
   "metadata": {},
   "outputs": [
    {
     "name": "stdout",
     "output_type": "stream",
     "text": [
      "+----+-----+-----+---+\n",
      "|0-20|21-40|41-60|61+|\n",
      "+----+-----+-----+---+\n",
      "|   0|    3|    0|  0|\n",
      "+----+-----+-----+---+\n",
      "\n"
     ]
    }
   ],
   "source": [
    "# 18. Calcular la cantidad de personas por rango de edades (0-20, 21-40, 41-60, 61+).\n",
    "age_column = \"age\"\n",
    "df_age_ranges = df.select(\n",
    "    count(when((col(age_column) >= 0) & (col(age_column) <= 20), 1)).alias(\"0-20\"),\n",
    "    count(when((col(age_column) >= 21) & (col(age_column) <= 40), 1)).alias(\"21-40\"),\n",
    "    count(when((col(age_column) >= 41) & (col(age_column) <= 60), 1)).alias(\"41-60\"),\n",
    "    count(when(col(age_column) >= 61, 1)).alias(\"61+\")\n",
    ")\n",
    "df_age_ranges.show()"
   ]
  },
  {
   "cell_type": "code",
   "execution_count": 50,
   "id": "3d96892c",
   "metadata": {},
   "outputs": [
    {
     "name": "stdout",
     "output_type": "stream",
     "text": [
      "+-------+-----+\n",
      "|   name|count|\n",
      "+-------+-----+\n",
      "|  Alice|    1|\n",
      "|    Bob|    1|\n",
      "|Charlie|    1|\n",
      "+-------+-----+\n",
      "\n"
     ]
    }
   ],
   "source": [
    "# 19. Contar cuántas personas tienen el mismo nombre.\n",
    "name_counts = df.groupBy(\"name\").agg(count(\"*\").alias(\"count\"))\n",
    "name_counts.show()"
   ]
  },
  {
   "cell_type": "code",
   "execution_count": 51,
   "id": "1cc505d7",
   "metadata": {},
   "outputs": [
    {
     "name": "stdout",
     "output_type": "stream",
     "text": [
      "+-------+---+-----------+----------------+\n",
      "|   name|age|       city|    PersonalInfo|\n",
      "+-------+---+-----------+----------------+\n",
      "|  Alice| 25|   New York| Alice, New York|\n",
      "|    Bob| 30|Los Angeles|Bob, Los Angeles|\n",
      "|Charlie| 22|    Chicago|Charlie, Chicago|\n",
      "+-------+---+-----------+----------------+\n",
      "\n"
     ]
    }
   ],
   "source": [
    "# 20. Concatenar las columnas \"Nombre\" y \"Ciudad\" en una nueva columna llamada \"InformacionPersonal\".\n",
    "concatenated = df.withColumn(\"PersonalInfo\", concat_ws(\", \", col(\"name\"), col(\"city\")))\n",
    "concatenated.show()"
   ]
  },
  {
   "cell_type": "code",
   "execution_count": null,
   "id": "6867e666",
   "metadata": {},
   "outputs": [],
   "source": []
  }
 ],
 "metadata": {
  "kernelspec": {
   "display_name": "Python 3 (ipykernel)",
   "language": "python",
   "name": "python3"
  },
  "language_info": {
   "codemirror_mode": {
    "name": "ipython",
    "version": 3
   },
   "file_extension": ".py",
   "mimetype": "text/x-python",
   "name": "python",
   "nbconvert_exporter": "python",
   "pygments_lexer": "ipython3",
   "version": "3.11.4"
  }
 },
 "nbformat": 4,
 "nbformat_minor": 5
}
